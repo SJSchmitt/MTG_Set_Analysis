{
 "cells": [
  {
   "cell_type": "code",
   "execution_count": 81,
   "id": "b7a4cfa6",
   "metadata": {},
   "outputs": [],
   "source": [
    "# Import Splinter and BeautifulSoup\n",
    "from splinter import Browser\n",
    "from bs4 import BeautifulSoup as soup\n",
    "from webdriver_manager.chrome import ChromeDriverManager\n",
    "import pandas as pd\n",
    "import re\n",
    "\n",
    "# Python SQL toolkit and Object Relational Mapper\n",
    "from sqlalchemy import create_engine\n",
    "import psycopg2\n",
    "\n",
    "from config import db_password\n",
    "from set_scrape import *"
   ]
  },
  {
   "cell_type": "code",
   "execution_count": 82,
   "id": "0395a1e7",
   "metadata": {},
   "outputs": [],
   "source": [
    "names, links = set_scrape(\"https://scryfall.com/sets/mom\")"
   ]
  },
  {
   "cell_type": "code",
   "execution_count": 83,
   "id": "a17c0022",
   "metadata": {},
   "outputs": [
    {
     "data": {
      "text/html": [
       "<div>\n",
       "<style scoped>\n",
       "    .dataframe tbody tr th:only-of-type {\n",
       "        vertical-align: middle;\n",
       "    }\n",
       "\n",
       "    .dataframe tbody tr th {\n",
       "        vertical-align: top;\n",
       "    }\n",
       "\n",
       "    .dataframe thead th {\n",
       "        text-align: right;\n",
       "    }\n",
       "</style>\n",
       "<table border=\"1\" class=\"dataframe\">\n",
       "  <thead>\n",
       "    <tr style=\"text-align: right;\">\n",
       "      <th></th>\n",
       "      <th>Card</th>\n",
       "      <th>Link</th>\n",
       "    </tr>\n",
       "  </thead>\n",
       "  <tbody>\n",
       "    <tr>\n",
       "      <th>0</th>\n",
       "      <td>Invasion of Ravnica // Guildpact Paragon</td>\n",
       "      <td>https://scryfall.com/card/mom/1/invasion-of-ra...</td>\n",
       "    </tr>\n",
       "    <tr>\n",
       "      <th>1</th>\n",
       "      <td>Aerial Boost</td>\n",
       "      <td>https://scryfall.com/card/mom/2/aerial-boost</td>\n",
       "    </tr>\n",
       "    <tr>\n",
       "      <th>2</th>\n",
       "      <td>Alabaster Host Intercessor</td>\n",
       "      <td>https://scryfall.com/card/mom/3/alabaster-host...</td>\n",
       "    </tr>\n",
       "    <tr>\n",
       "      <th>3</th>\n",
       "      <td>Alabaster Host Sanctifier</td>\n",
       "      <td>https://scryfall.com/card/mom/4/alabaster-host...</td>\n",
       "    </tr>\n",
       "    <tr>\n",
       "      <th>4</th>\n",
       "      <td>Angelic Intervention</td>\n",
       "      <td>https://scryfall.com/card/mom/5/angelic-interv...</td>\n",
       "    </tr>\n",
       "  </tbody>\n",
       "</table>\n",
       "</div>"
      ],
      "text/plain": [
       "                                       Card  \\\n",
       "0  Invasion of Ravnica // Guildpact Paragon   \n",
       "1                              Aerial Boost   \n",
       "2                Alabaster Host Intercessor   \n",
       "3                 Alabaster Host Sanctifier   \n",
       "4                      Angelic Intervention   \n",
       "\n",
       "                                                Link  \n",
       "0  https://scryfall.com/card/mom/1/invasion-of-ra...  \n",
       "1       https://scryfall.com/card/mom/2/aerial-boost  \n",
       "2  https://scryfall.com/card/mom/3/alabaster-host...  \n",
       "3  https://scryfall.com/card/mom/4/alabaster-host...  \n",
       "4  https://scryfall.com/card/mom/5/angelic-interv...  "
      ]
     },
     "execution_count": 83,
     "metadata": {},
     "output_type": "execute_result"
    }
   ],
   "source": [
    "df = pd.DataFrame({'Card': names, 'Link': links})\n",
    "df.head()"
   ]
  }
 ],
 "metadata": {
  "kernelspec": {
   "display_name": "PythonData",
   "language": "python",
   "name": "pythondata"
  },
  "language_info": {
   "codemirror_mode": {
    "name": "ipython",
    "version": 3
   },
   "file_extension": ".py",
   "mimetype": "text/x-python",
   "name": "python",
   "nbconvert_exporter": "python",
   "pygments_lexer": "ipython3",
   "version": "3.7.13"
  }
 },
 "nbformat": 4,
 "nbformat_minor": 5
}
