{
 "cells": [
  {
   "cell_type": "code",
   "execution_count": 8,
   "id": "f6372bb1",
   "metadata": {},
   "outputs": [],
   "source": [
    "# Import Splinter and BeautifulSoup\n",
    "from splinter import Browser\n",
    "from bs4 import BeautifulSoup as soup\n",
    "from webdriver_manager.chrome import ChromeDriverManager\n",
    "import pandas as pd\n",
    "import re"
   ]
  },
  {
   "cell_type": "code",
   "execution_count": 9,
   "id": "5746563b",
   "metadata": {},
   "outputs": [],
   "source": [
    "executable_path = {'executable_path': ChromeDriverManager().install()}\n",
    "browser = Browser('chrome', **executable_path, headless=False)"
   ]
  },
  {
   "cell_type": "code",
   "execution_count": 22,
   "id": "56c6aae6",
   "metadata": {},
   "outputs": [],
   "source": [
    "#link = \"https://scryfall.com/card/mom/6/archangel-elspeth\"\n",
    "#link = \"https://scryfall.com/card/mom/1/invasion-of-ravnica-guildpact-paragon\"\n",
    "#link = \"https://scryfall.com/card/mh2/290/fire-ice\"\n",
    "#link = \"https://scryfall.com/card/mom/279/swamp\"\n",
    "#link = \"https://scryfall.com/card/mom/246/marshal-of-zhalfir\"\n",
    "link = \"https://scryfall.com/card/mom/256/yargle-and-multani\""
   ]
  },
  {
   "cell_type": "code",
   "execution_count": 23,
   "id": "6ec21bf2",
   "metadata": {},
   "outputs": [],
   "source": [
    "browser.visit(link)\n",
    "html=browser.html\n",
    "cardSoup = soup(html, 'html.parser')"
   ]
  },
  {
   "cell_type": "code",
   "execution_count": 28,
   "id": "881a57d4",
   "metadata": {},
   "outputs": [
    {
     "name": "stdout",
     "output_type": "stream",
     "text": [
      "empty\n",
      "[]\n"
     ]
    }
   ],
   "source": [
    "words = ''\n",
    "text = cardSoup.select('div.card-text-oracle p')\n",
    "if len(text)==0:\n",
    "    print(\"empty\")\n",
    "for line in text:\n",
    "    if len(words)==0:\n",
    "        words += line.text\n",
    "    else:\n",
    "        words += \" // \" + line.text\n",
    "    \n",
    "words\n",
    "print(text)"
   ]
  },
  {
   "cell_type": "code",
   "execution_count": 7,
   "id": "2cd1d530",
   "metadata": {},
   "outputs": [
    {
     "data": {
      "text/plain": [
       "'hello'"
      ]
     },
     "execution_count": 7,
     "metadata": {},
     "output_type": "execute_result"
    }
   ],
   "source": [
    "words = ''\n",
    "\n",
    "text = \"\"\n",
    "if len(text) == 0:\n",
    "    words = \"\"\n",
    "else:\n",
    "    words += text\n",
    "    \n",
    "words"
   ]
  }
 ],
 "metadata": {
  "kernelspec": {
   "display_name": "PythonData",
   "language": "python",
   "name": "pythondata"
  },
  "language_info": {
   "codemirror_mode": {
    "name": "ipython",
    "version": 3
   },
   "file_extension": ".py",
   "mimetype": "text/x-python",
   "name": "python",
   "nbconvert_exporter": "python",
   "pygments_lexer": "ipython3",
   "version": "3.7.13"
  }
 },
 "nbformat": 4,
 "nbformat_minor": 5
}
